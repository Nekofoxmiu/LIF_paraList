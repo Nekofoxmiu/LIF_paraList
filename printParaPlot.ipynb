{
 "cells": [
  {
   "cell_type": "code",
   "execution_count": 7,
   "metadata": {},
   "outputs": [],
   "source": [
    "import matplotlib.pyplot as plt\n",
    "import ipywidgets as widgets\n",
    "import pandas as pd\n",
    "from IPython.display import display"
   ]
  },
  {
   "cell_type": "code",
   "execution_count": 9,
   "metadata": {},
   "outputs": [],
   "source": [
    "df = pd.read_csv('neuron_simulation_results_no_units_full.csv')\n",
    "df.to_hdf('neuron_simulation_results_with_units.h5', key='df', mode='w', complevel=9, complib='blosc')\n"
   ]
  },
  {
   "cell_type": "code",
   "execution_count": 12,
   "metadata": {},
   "outputs": [],
   "source": [
    "df = pd.read_csv('neuron_simulation_results_no_units_full.csv')\n",
    "df.to_feather('neuron_simulation_results_with_units.feather')"
   ]
  },
  {
   "cell_type": "code",
   "execution_count": 13,
   "metadata": {},
   "outputs": [
    {
     "data": {
      "application/vnd.jupyter.widget-view+json": {
       "model_id": "1df08c14420d4b58959ad82cbea2a05c",
       "version_major": 2,
       "version_minor": 0
      },
      "text/plain": [
       "interactive(children=(SelectionSlider(description='Cm (nF)', options=(0.05, 0.1, 0.15, 0.2, 0.25, 0.3, 0.35, 0…"
      ]
     },
     "metadata": {},
     "output_type": "display_data"
    }
   ],
   "source": [
    "# 加載無單位的數據\n",
    "df_no_units = pd.read_feather('neuron_simulation_results_with_units.feather')\n",
    "\n",
    "\n",
    "# 從數據中獲取唯一值作為滑桿選項\n",
    "cm_options = sorted(df_no_units['Cm'].unique())\n",
    "tau_options = sorted(df_no_units['tau_neu'].unique())\n",
    "v_rest_options = sorted(df_no_units['v_rest'].unique())\n",
    "v_reset_options = sorted(df_no_units['v_reset'].unique())\n",
    "v_thresh_options = sorted(df_no_units['v_thresh'].unique())\n",
    "\n",
    "# 定義滑桿\n",
    "cm_slider = widgets.SelectionSlider(options=cm_options, description='Cm (nF)')\n",
    "tau_slider = widgets.SelectionSlider(options=tau_options, description='tau_neu (ms)')\n",
    "v_rest_slider = widgets.SelectionSlider(options=v_rest_options, description='v_rest (mV)')\n",
    "v_reset_slider = widgets.SelectionSlider(options=v_reset_options, description='v_reset (mV)')\n",
    "v_thresh_slider = widgets.SelectionSlider(options=v_thresh_options, description='v_thresh (mV)')\n",
    "\n",
    "# 定義繪圖函式\n",
    "def plot_results(Cm, tau_neu, v_rest, v_reset, v_thresh):\n",
    "    filtered_data = df_no_units[\n",
    "        (df_no_units['Cm'] == Cm) & \n",
    "        (df_no_units['tau_neu'] == tau_neu) & \n",
    "        (df_no_units['v_rest'] == v_rest) & \n",
    "        (df_no_units['v_reset'] == v_reset) & \n",
    "        (df_no_units['v_thresh'] == v_thresh)\n",
    "    ]\n",
    "    \n",
    "    plt.figure(figsize=(10, 6))\n",
    "    plt.plot(filtered_data['I_ext'], filtered_data['FiringNeuronRate'], marker='o')\n",
    "    plt.xlabel('External Current (nA)')\n",
    "    plt.ylabel('Firing Rate (Hz)')\n",
    "    plt.title(f'Firing Rate vs External Current\\nCm={Cm} nF, tau_neu={tau_neu} ms, v_rest={v_rest} mV, v_reset={v_reset} mV, v_thresh={v_thresh} mV')\n",
    "    plt.grid(True)\n",
    "    plt.ylim(-0.05, 1.05)\n",
    "    plt.xlim(-0.05, 2.05)\n",
    "    plt.show()\n",
    "\n",
    "# 顯示滑桿與繪圖\n",
    "interactive_plot = widgets.interactive(\n",
    "    plot_results, \n",
    "    Cm=cm_slider, \n",
    "    tau_neu=tau_slider, \n",
    "    v_rest=v_rest_slider, \n",
    "    v_reset=v_reset_slider, \n",
    "    v_thresh=v_thresh_slider\n",
    ")\n",
    "display(interactive_plot)\n"
   ]
  }
 ],
 "metadata": {
  "kernelspec": {
   "display_name": "neuron_gpu",
   "language": "python",
   "name": "python3"
  },
  "language_info": {
   "codemirror_mode": {
    "name": "ipython",
    "version": 3
   },
   "file_extension": ".py",
   "mimetype": "text/x-python",
   "name": "python",
   "nbconvert_exporter": "python",
   "pygments_lexer": "ipython3",
   "version": "3.11.7"
  }
 },
 "nbformat": 4,
 "nbformat_minor": 2
}
